{
 "cells": [
  {
   "cell_type": "code",
   "execution_count": 523,
   "metadata": {
    "collapsed": true
   },
   "outputs": [],
   "source": [
    "import sys\n",
    "import matplotlib.pyplot as plt\n",
    "import numpy as np\n",
    "import random\n",
    "import time\n",
    "import os\n",
    "import math\n",
    "import csv\n",
    "import copy\n",
    "import gc"
   ]
  },
  {
   "cell_type": "code",
   "execution_count": 524,
   "metadata": {
    "collapsed": true
   },
   "outputs": [],
   "source": [
    "list_of_cities=[]\n",
    "mutate_prob = 0.3\n",
    "tournament_size = 7\n",
    "elitism = True\n",
    "print_route = True"
   ]
  },
  {
   "cell_type": "code",
   "execution_count": 525,
   "metadata": {
    "collapsed": true
   },
   "outputs": [],
   "source": [
    "class City(object):\n",
    "    def __init__(self, index, xy):\n",
    "        self.index = index\n",
    "        self.xy = xy\n",
    "\n",
    "    def calculate_distance(self, city):\n",
    "        return self.point_dist(self.xy, city.xy)\n",
    "\n",
    "    def point_dist(self, xy1, xy2):\n",
    "        return np.linalg.norm(xy1-xy2, 2, 0)"
   ]
  },
  {
   "cell_type": "code",
   "execution_count": 526,
   "metadata": {},
   "outputs": [],
   "source": [
    "class Route(object):\n",
    "    def __init__(self, make=False):\n",
    "        if make:\n",
    "            self.route = self.make_init()\n",
    "        else:\n",
    "            self.route = self.random_init()\n",
    "        self.recalc_rt_len()\n",
    "\n",
    "    def recalc_rt_len(self):\n",
    "        self.length = 0.0\n",
    "\n",
    "        for i in range(0, len(self.route)-1):\n",
    "            next_city = self.route[i+1]\n",
    "            dist_to_next = self.route[i].calculate_distance(next_city)\n",
    "            self.length += dist_to_next\n",
    "\n",
    "    def print_cities_in_rt(self):\n",
    "        cities_res = ''\n",
    "        for city in self.route:\n",
    "            cities_res += city.index + ','\n",
    "        if cities_res[-1] == ',':\n",
    "            cities_res = cities_res[:-1]\n",
    "        if print_route:\n",
    "            print(cities_res)\n",
    "\n",
    "    def is_valid_route(self):\n",
    "        for city in list_of_cities:\n",
    "            if self.count_mult(self.route, lambda c: c.index == city.index) > 1:\n",
    "                return False\n",
    "        return True\n",
    "\n",
    "    def count_mult(self, seq, pred):\n",
    "        return sum(1 for v in seq if pred(v))\n",
    "\n",
    "    def tsp_2opt(self):\n",
    "        k = random.randint(0, len(list_of_cities) - 1)\n",
    "        d = list_of_cities[:]\n",
    "        n = [list_of_cities[k]]\n",
    "        d.pop(k)\n",
    "\n",
    "        while len(d) > 0:\n",
    "            min_dist = 1e10\n",
    "            idx = -1\n",
    "            for (i, j) in enumerate(d):\n",
    "                new_dist = j.calculate_distance(n[-1])\n",
    "                if new_dist < min_dist:\n",
    "                    min_dist, idx = new_dist, i\n",
    "            n.append(d[idx])\n",
    "            d.pop(idx)\n",
    "        return n\n",
    "\n",
    "    def random_init(self):\n",
    "        return sorted(list_of_cities, key=lambda *args: random.random())\n",
    "\n",
    "    def make_init(self):\n",
    "        return self.tsp_2opt()"
   ]
  },
  {
   "cell_type": "code",
   "execution_count": 527,
   "metadata": {
    "collapsed": true
   },
   "outputs": [],
   "source": [
    "class RoutePop(object):\n",
    "    def __init__(self, size, initialize, make_Route=False):\n",
    "        self.rt_pop = []\n",
    "        self.size = size\n",
    "        if initialize:\n",
    "            for i in range(size):\n",
    "                new_rt = Route(make_Route)\n",
    "                self.rt_pop.append(new_rt)\n",
    "            self.get_fittest()\n",
    "\n",
    "    def get_fittest(self):\n",
    "        sorted_list = sorted(self.rt_pop, key=lambda x: x.length, reverse=False)\n",
    "        self.fittest = sorted_list[0]\n",
    "        return self.fittest\n",
    "    \n",
    "    def get_lengths(self):\n",
    "        sorted_list = sorted(self.rt_pop, key=lambda x: x.length, reverse=False)\n",
    "        length_list = [r.length for r in sorted_list]\n",
    "        return length_list"
   ]
  },
  {
   "cell_type": "code",
   "execution_count": 528,
   "metadata": {
    "collapsed": true
   },
   "outputs": [],
   "source": [
    "class GA(object):\n",
    "    def crossover_experimental(self, parent1, parent2):\n",
    "        child_rt = Route()\n",
    "        rtB_len = len(routeB.route)\n",
    "        random_city = random.choice(list_of_cities)\n",
    "\n",
    "    def crossover(self, parent1, parent2):\n",
    "        child_rt = Route()\n",
    "\n",
    "        for i in range(len(child_rt.route)):\n",
    "            child_rt.route[i] = None\n",
    "\n",
    "        start_pos = random.randint(0, len(parent1.route))\n",
    "        end_pos = random.randint(0, len(parent2.route))\n",
    "        if start_pos < end_pos:\n",
    "            for i in range(start_pos, end_pos):\n",
    "                child_rt.route[i] = parent1.route[i]\n",
    "        elif start_pos > end_pos:\n",
    "            for i in range(end_pos, start_pos):\n",
    "                child_rt.route[i] = parent1.route[i]\n",
    "\n",
    "        for i in range(len(parent2.route)):\n",
    "            if not parent2.route[i] in child_rt.route:\n",
    "                for j in range(len(child_rt.route)):\n",
    "                    if child_rt.route[j] == None:\n",
    "                        child_rt.route[j] = parent2.route[i]\n",
    "                        break\n",
    "\n",
    "        child_rt.recalc_rt_len()\n",
    "        return child_rt\n",
    "\n",
    "    def mutate(self, route_to_mut):\n",
    "        if random.random() < mutate_prob:\n",
    "            mut_pos1 = random.randint(0, len(route_to_mut.route) - 1)\n",
    "            mut_pos2 = random.randint(0, len(route_to_mut.route) - 1)\n",
    "\n",
    "            if mut_pos1 == mut_pos2:\n",
    "                return route_to_mut\n",
    "\n",
    "            city1 = route_to_mut.route[mut_pos1]\n",
    "            city2 = route_to_mut.route[mut_pos2]\n",
    "\n",
    "            route_to_mut.route[mut_pos2] = city1\n",
    "            route_to_mut.route[mut_pos1] = city2\n",
    "\n",
    "        route_to_mut.recalc_rt_len()\n",
    "\n",
    "        return route_to_mut\n",
    "\n",
    "    def tournament_select(self, population):\n",
    "        tournament_pop = RoutePop(size=tournament_size, initialize=False)\n",
    "\n",
    "        for i in range(tournament_size-1):\n",
    "            tournament_pop.rt_pop.append(random.choice(population.rt_pop))\n",
    "\n",
    "        return tournament_pop.get_fittest()\n",
    "\n",
    "    def evolve_population(self, init_pop):\n",
    "        descendant_pop = RoutePop(size=init_pop.size, initialize=True)\n",
    "\n",
    "        elitismOffset = 0\n",
    "\n",
    "        if elitism:\n",
    "            descendant_pop.rt_pop[0] = init_pop.fittest\n",
    "            elitismOffset = 1\n",
    "\n",
    "        for i in range(elitismOffset, descendant_pop.size):\n",
    "            tournament_parent1 = self.tournament_select(init_pop)\n",
    "            tournament_parent2 = self.tournament_select(init_pop)\n",
    "\n",
    "            tournament_child = self.crossover(tournament_parent1, tournament_parent2)\n",
    "\n",
    "            descendant_pop.rt_pop[i] = tournament_child\n",
    "\n",
    "        for route in descendant_pop.rt_pop:\n",
    "            if random.random() < mutate_prob:\n",
    "                self.mutate(route)\n",
    "\n",
    "        descendant_pop.get_fittest()\n",
    "\n",
    "        return descendant_pop\n"
   ]
  },
  {
   "cell_type": "code",
   "execution_count": 529,
   "metadata": {
    "collapsed": true
   },
   "outputs": [],
   "source": [
    "class App(object):\n",
    "    def __init__(self, n_generations, pop_size):\n",
    "        self.n_generations = n_generations\n",
    "        self.pop_size = pop_size\n",
    "        print(\"GA_loop\")\n",
    "        self.GA_loop(n_generations, pop_size)\n",
    "\n",
    "    def GA_loop(self, n_generations, pop_size):\n",
    "        start_time = time.time()\n",
    "\n",
    "        print(\"Create Populations Start\")\n",
    "        the_population = RoutePop(pop_size, True, True)\n",
    "        print(\"Create Populations End\")\n",
    "        \n",
    "        if the_population.fittest.is_valid_route() == False:\n",
    "            raise NameError(\"multiple cities with same index\")\n",
    "            return\n",
    "\n",
    "        initial_length = the_population.fittest.length\n",
    "        best_route = Route()\n",
    "\n",
    "        for i in range(1, n_generations+1):\n",
    "            the_population = GA().evolve_population(the_population)\n",
    "\n",
    "            if the_population.fittest.length < best_route.length:\n",
    "                best_route = copy.deepcopy(the_population.fittest)\n",
    "\n",
    "            #self.clear_term()\n",
    "            print('Generation {0} of {1}'.format(i,n_generations))\n",
    "            print(' ')\n",
    "            print('Overall fittest has length {0:.2f}'.format(best_route.length))\n",
    "            print('and goes via:')\n",
    "            best_route.print_cities_in_rt()\n",
    "            print(' ')\n",
    "            print('Current fittest has length {0:.2f}'.format(the_population.fittest.length))\n",
    "            print('And goes via:')\n",
    "            the_population.fittest.print_cities_in_rt()\n",
    "            print(the_population.get_lengths())\n",
    "            \n",
    "            print(' ')\n",
    "\n",
    "    def clear_term(self):\n",
    "        os.system('cls' if os.name=='nt' else 'clear')"
   ]
  },
  {
   "cell_type": "code",
   "execution_count": 530,
   "metadata": {
    "collapsed": true
   },
   "outputs": [],
   "source": [
    "def file_open(file):\n",
    "    i=0\n",
    "    f = open(file, 'r')\n",
    "    lines = f.readlines()\n",
    "    index = lines.index('NODE_COORD_SECTION\\n')\n",
    "    datas = lines[index+1:-1]\n",
    "    \n",
    "    for data in datas:\n",
    "        l = data.split(' ')\n",
    "        l[:] = [value.replace('\\n', '') for value in l if value != '']\n",
    "        city = City(l[0], np.array([float(l[1]), float(l[2])]))\n",
    "        list_of_cities.append(city)"
   ]
  },
  {
   "cell_type": "code",
   "execution_count": 531,
   "metadata": {},
   "outputs": [],
   "source": [
    "file_open('ali535.tsp')"
   ]
  },
  {
   "cell_type": "code",
   "execution_count": 532,
   "metadata": {},
   "outputs": [
    {
     "name": "stdout",
     "output_type": "stream",
     "text": [
      "GA_loop\n",
      "Create Populations Start\n"
     ]
    },
    {
     "ename": "KeyboardInterrupt",
     "evalue": "",
     "output_type": "error",
     "traceback": [
      "\u001b[1;31m---------------------------------------------------------------------------\u001b[0m",
      "\u001b[1;31mKeyboardInterrupt\u001b[0m                         Traceback (most recent call last)",
      "\u001b[1;32m<ipython-input-532-98589507527c>\u001b[0m in \u001b[0;36m<module>\u001b[1;34m()\u001b[0m\n\u001b[1;32m----> 1\u001b[1;33m \u001b[0mapp\u001b[0m \u001b[1;33m=\u001b[0m \u001b[0mApp\u001b[0m\u001b[1;33m(\u001b[0m\u001b[0mn_generations\u001b[0m\u001b[1;33m=\u001b[0m\u001b[1;36m10\u001b[0m\u001b[1;33m,\u001b[0m \u001b[0mpop_size\u001b[0m\u001b[1;33m=\u001b[0m\u001b[1;36m100\u001b[0m\u001b[1;33m)\u001b[0m\u001b[1;33m\u001b[0m\u001b[0m\n\u001b[0m",
      "\u001b[1;32m<ipython-input-529-6b36ee0150c2>\u001b[0m in \u001b[0;36m__init__\u001b[1;34m(self, n_generations, pop_size)\u001b[0m\n\u001b[0;32m      4\u001b[0m         \u001b[0mself\u001b[0m\u001b[1;33m.\u001b[0m\u001b[0mpop_size\u001b[0m \u001b[1;33m=\u001b[0m \u001b[0mpop_size\u001b[0m\u001b[1;33m\u001b[0m\u001b[0m\n\u001b[0;32m      5\u001b[0m         \u001b[0mprint\u001b[0m\u001b[1;33m(\u001b[0m\u001b[1;34m\"GA_loop\"\u001b[0m\u001b[1;33m)\u001b[0m\u001b[1;33m\u001b[0m\u001b[0m\n\u001b[1;32m----> 6\u001b[1;33m         \u001b[0mself\u001b[0m\u001b[1;33m.\u001b[0m\u001b[0mGA_loop\u001b[0m\u001b[1;33m(\u001b[0m\u001b[0mn_generations\u001b[0m\u001b[1;33m,\u001b[0m \u001b[0mpop_size\u001b[0m\u001b[1;33m)\u001b[0m\u001b[1;33m\u001b[0m\u001b[0m\n\u001b[0m\u001b[0;32m      7\u001b[0m \u001b[1;33m\u001b[0m\u001b[0m\n\u001b[0;32m      8\u001b[0m     \u001b[1;32mdef\u001b[0m \u001b[0mGA_loop\u001b[0m\u001b[1;33m(\u001b[0m\u001b[0mself\u001b[0m\u001b[1;33m,\u001b[0m \u001b[0mn_generations\u001b[0m\u001b[1;33m,\u001b[0m \u001b[0mpop_size\u001b[0m\u001b[1;33m)\u001b[0m\u001b[1;33m:\u001b[0m\u001b[1;33m\u001b[0m\u001b[0m\n",
      "\u001b[1;32m<ipython-input-529-6b36ee0150c2>\u001b[0m in \u001b[0;36mGA_loop\u001b[1;34m(self, n_generations, pop_size)\u001b[0m\n\u001b[0;32m     10\u001b[0m \u001b[1;33m\u001b[0m\u001b[0m\n\u001b[0;32m     11\u001b[0m         \u001b[0mprint\u001b[0m\u001b[1;33m(\u001b[0m\u001b[1;34m\"Create Populations Start\"\u001b[0m\u001b[1;33m)\u001b[0m\u001b[1;33m\u001b[0m\u001b[0m\n\u001b[1;32m---> 12\u001b[1;33m         \u001b[0mthe_population\u001b[0m \u001b[1;33m=\u001b[0m \u001b[0mRoutePop\u001b[0m\u001b[1;33m(\u001b[0m\u001b[0mpop_size\u001b[0m\u001b[1;33m,\u001b[0m \u001b[1;32mTrue\u001b[0m\u001b[1;33m,\u001b[0m \u001b[1;32mTrue\u001b[0m\u001b[1;33m)\u001b[0m\u001b[1;33m\u001b[0m\u001b[0m\n\u001b[0m\u001b[0;32m     13\u001b[0m         \u001b[0mprint\u001b[0m\u001b[1;33m(\u001b[0m\u001b[1;34m\"Create Populations End\"\u001b[0m\u001b[1;33m)\u001b[0m\u001b[1;33m\u001b[0m\u001b[0m\n\u001b[0;32m     14\u001b[0m \u001b[1;33m\u001b[0m\u001b[0m\n",
      "\u001b[1;32m<ipython-input-527-de71dfdda915>\u001b[0m in \u001b[0;36m__init__\u001b[1;34m(self, size, initialize, make_Route)\u001b[0m\n\u001b[0;32m      5\u001b[0m         \u001b[1;32mif\u001b[0m \u001b[0minitialize\u001b[0m\u001b[1;33m:\u001b[0m\u001b[1;33m\u001b[0m\u001b[0m\n\u001b[0;32m      6\u001b[0m             \u001b[1;32mfor\u001b[0m \u001b[0mi\u001b[0m \u001b[1;32min\u001b[0m \u001b[0mrange\u001b[0m\u001b[1;33m(\u001b[0m\u001b[0msize\u001b[0m\u001b[1;33m)\u001b[0m\u001b[1;33m:\u001b[0m\u001b[1;33m\u001b[0m\u001b[0m\n\u001b[1;32m----> 7\u001b[1;33m                 \u001b[0mnew_rt\u001b[0m \u001b[1;33m=\u001b[0m \u001b[0mRoute\u001b[0m\u001b[1;33m(\u001b[0m\u001b[0mmake_Route\u001b[0m\u001b[1;33m)\u001b[0m\u001b[1;33m\u001b[0m\u001b[0m\n\u001b[0m\u001b[0;32m      8\u001b[0m                 \u001b[0mself\u001b[0m\u001b[1;33m.\u001b[0m\u001b[0mrt_pop\u001b[0m\u001b[1;33m.\u001b[0m\u001b[0mappend\u001b[0m\u001b[1;33m(\u001b[0m\u001b[0mnew_rt\u001b[0m\u001b[1;33m)\u001b[0m\u001b[1;33m\u001b[0m\u001b[0m\n\u001b[0;32m      9\u001b[0m             \u001b[0mself\u001b[0m\u001b[1;33m.\u001b[0m\u001b[0mget_fittest\u001b[0m\u001b[1;33m(\u001b[0m\u001b[1;33m)\u001b[0m\u001b[1;33m\u001b[0m\u001b[0m\n",
      "\u001b[1;32m<ipython-input-526-c647e516a61e>\u001b[0m in \u001b[0;36m__init__\u001b[1;34m(self, make)\u001b[0m\n\u001b[0;32m      2\u001b[0m     \u001b[1;32mdef\u001b[0m \u001b[0m__init__\u001b[0m\u001b[1;33m(\u001b[0m\u001b[0mself\u001b[0m\u001b[1;33m,\u001b[0m \u001b[0mmake\u001b[0m\u001b[1;33m=\u001b[0m\u001b[1;32mFalse\u001b[0m\u001b[1;33m)\u001b[0m\u001b[1;33m:\u001b[0m\u001b[1;33m\u001b[0m\u001b[0m\n\u001b[0;32m      3\u001b[0m         \u001b[1;32mif\u001b[0m \u001b[0mmake\u001b[0m\u001b[1;33m:\u001b[0m\u001b[1;33m\u001b[0m\u001b[0m\n\u001b[1;32m----> 4\u001b[1;33m             \u001b[0mself\u001b[0m\u001b[1;33m.\u001b[0m\u001b[0mroute\u001b[0m \u001b[1;33m=\u001b[0m \u001b[0mself\u001b[0m\u001b[1;33m.\u001b[0m\u001b[0mmake_init\u001b[0m\u001b[1;33m(\u001b[0m\u001b[1;33m)\u001b[0m\u001b[1;33m\u001b[0m\u001b[0m\n\u001b[0m\u001b[0;32m      5\u001b[0m         \u001b[1;32melse\u001b[0m\u001b[1;33m:\u001b[0m\u001b[1;33m\u001b[0m\u001b[0m\n\u001b[0;32m      6\u001b[0m             \u001b[0mself\u001b[0m\u001b[1;33m.\u001b[0m\u001b[0mroute\u001b[0m \u001b[1;33m=\u001b[0m \u001b[0mself\u001b[0m\u001b[1;33m.\u001b[0m\u001b[0mrandom_init\u001b[0m\u001b[1;33m(\u001b[0m\u001b[1;33m)\u001b[0m\u001b[1;33m\u001b[0m\u001b[0m\n",
      "\u001b[1;32m<ipython-input-526-c647e516a61e>\u001b[0m in \u001b[0;36mmake_init\u001b[1;34m(self)\u001b[0m\n\u001b[0;32m     54\u001b[0m \u001b[1;33m\u001b[0m\u001b[0m\n\u001b[0;32m     55\u001b[0m     \u001b[1;32mdef\u001b[0m \u001b[0mmake_init\u001b[0m\u001b[1;33m(\u001b[0m\u001b[0mself\u001b[0m\u001b[1;33m)\u001b[0m\u001b[1;33m:\u001b[0m\u001b[1;33m\u001b[0m\u001b[0m\n\u001b[1;32m---> 56\u001b[1;33m         \u001b[1;32mreturn\u001b[0m \u001b[0mself\u001b[0m\u001b[1;33m.\u001b[0m\u001b[0mtsp_2opt\u001b[0m\u001b[1;33m(\u001b[0m\u001b[1;33m)\u001b[0m\u001b[1;33m\u001b[0m\u001b[0m\n\u001b[0m",
      "\u001b[1;32m<ipython-input-526-c647e516a61e>\u001b[0m in \u001b[0;36mtsp_2opt\u001b[1;34m(self)\u001b[0m\n\u001b[0;32m     43\u001b[0m             \u001b[0midx\u001b[0m \u001b[1;33m=\u001b[0m \u001b[1;33m-\u001b[0m\u001b[1;36m1\u001b[0m\u001b[1;33m\u001b[0m\u001b[0m\n\u001b[0;32m     44\u001b[0m             \u001b[1;32mfor\u001b[0m \u001b[1;33m(\u001b[0m\u001b[0mi\u001b[0m\u001b[1;33m,\u001b[0m \u001b[0mj\u001b[0m\u001b[1;33m)\u001b[0m \u001b[1;32min\u001b[0m \u001b[0menumerate\u001b[0m\u001b[1;33m(\u001b[0m\u001b[0md\u001b[0m\u001b[1;33m)\u001b[0m\u001b[1;33m:\u001b[0m\u001b[1;33m\u001b[0m\u001b[0m\n\u001b[1;32m---> 45\u001b[1;33m                 \u001b[0mnew_dist\u001b[0m \u001b[1;33m=\u001b[0m \u001b[0mj\u001b[0m\u001b[1;33m.\u001b[0m\u001b[0mcalculate_distance\u001b[0m\u001b[1;33m(\u001b[0m\u001b[0mn\u001b[0m\u001b[1;33m[\u001b[0m\u001b[1;33m-\u001b[0m\u001b[1;36m1\u001b[0m\u001b[1;33m]\u001b[0m\u001b[1;33m)\u001b[0m\u001b[1;33m\u001b[0m\u001b[0m\n\u001b[0m\u001b[0;32m     46\u001b[0m                 \u001b[1;32mif\u001b[0m \u001b[0mnew_dist\u001b[0m \u001b[1;33m<\u001b[0m \u001b[0mmin_dist\u001b[0m\u001b[1;33m:\u001b[0m\u001b[1;33m\u001b[0m\u001b[0m\n\u001b[0;32m     47\u001b[0m                     \u001b[0mmin_dist\u001b[0m\u001b[1;33m,\u001b[0m \u001b[0midx\u001b[0m \u001b[1;33m=\u001b[0m \u001b[0mnew_dist\u001b[0m\u001b[1;33m,\u001b[0m \u001b[0mi\u001b[0m\u001b[1;33m\u001b[0m\u001b[0m\n",
      "\u001b[1;32m<ipython-input-525-edb0f82ac521>\u001b[0m in \u001b[0;36mcalculate_distance\u001b[1;34m(self, city)\u001b[0m\n\u001b[0;32m      5\u001b[0m \u001b[1;33m\u001b[0m\u001b[0m\n\u001b[0;32m      6\u001b[0m     \u001b[1;32mdef\u001b[0m \u001b[0mcalculate_distance\u001b[0m\u001b[1;33m(\u001b[0m\u001b[0mself\u001b[0m\u001b[1;33m,\u001b[0m \u001b[0mcity\u001b[0m\u001b[1;33m)\u001b[0m\u001b[1;33m:\u001b[0m\u001b[1;33m\u001b[0m\u001b[0m\n\u001b[1;32m----> 7\u001b[1;33m         \u001b[1;32mreturn\u001b[0m \u001b[0mself\u001b[0m\u001b[1;33m.\u001b[0m\u001b[0mpoint_dist\u001b[0m\u001b[1;33m(\u001b[0m\u001b[0mself\u001b[0m\u001b[1;33m.\u001b[0m\u001b[0mxy\u001b[0m\u001b[1;33m,\u001b[0m \u001b[0mcity\u001b[0m\u001b[1;33m.\u001b[0m\u001b[0mxy\u001b[0m\u001b[1;33m)\u001b[0m\u001b[1;33m\u001b[0m\u001b[0m\n\u001b[0m\u001b[0;32m      8\u001b[0m \u001b[1;33m\u001b[0m\u001b[0m\n\u001b[0;32m      9\u001b[0m     \u001b[1;32mdef\u001b[0m \u001b[0mpoint_dist\u001b[0m\u001b[1;33m(\u001b[0m\u001b[0mself\u001b[0m\u001b[1;33m,\u001b[0m \u001b[0mxy1\u001b[0m\u001b[1;33m,\u001b[0m \u001b[0mxy2\u001b[0m\u001b[1;33m)\u001b[0m\u001b[1;33m:\u001b[0m\u001b[1;33m\u001b[0m\u001b[0m\n",
      "\u001b[1;32m<ipython-input-525-edb0f82ac521>\u001b[0m in \u001b[0;36mpoint_dist\u001b[1;34m(self, xy1, xy2)\u001b[0m\n\u001b[0;32m      8\u001b[0m \u001b[1;33m\u001b[0m\u001b[0m\n\u001b[0;32m      9\u001b[0m     \u001b[1;32mdef\u001b[0m \u001b[0mpoint_dist\u001b[0m\u001b[1;33m(\u001b[0m\u001b[0mself\u001b[0m\u001b[1;33m,\u001b[0m \u001b[0mxy1\u001b[0m\u001b[1;33m,\u001b[0m \u001b[0mxy2\u001b[0m\u001b[1;33m)\u001b[0m\u001b[1;33m:\u001b[0m\u001b[1;33m\u001b[0m\u001b[0m\n\u001b[1;32m---> 10\u001b[1;33m         \u001b[1;32mreturn\u001b[0m \u001b[0mnp\u001b[0m\u001b[1;33m.\u001b[0m\u001b[0mlinalg\u001b[0m\u001b[1;33m.\u001b[0m\u001b[0mnorm\u001b[0m\u001b[1;33m(\u001b[0m\u001b[0mxy1\u001b[0m\u001b[1;33m-\u001b[0m\u001b[0mxy2\u001b[0m\u001b[1;33m,\u001b[0m \u001b[1;36m2\u001b[0m\u001b[1;33m,\u001b[0m \u001b[1;36m0\u001b[0m\u001b[1;33m)\u001b[0m\u001b[1;33m\u001b[0m\u001b[0m\n\u001b[0m",
      "\u001b[1;32mc:\\users\\outtoin\\appdata\\local\\programs\\python\\python36-32\\lib\\site-packages\\numpy\\linalg\\linalg.py\u001b[0m in \u001b[0;36mnorm\u001b[1;34m(x, ord, axis, keepdims)\u001b[0m\n\u001b[0;32m   2195\u001b[0m         \u001b[1;32melif\u001b[0m \u001b[0mord\u001b[0m \u001b[1;32mis\u001b[0m \u001b[1;32mNone\u001b[0m \u001b[1;32mor\u001b[0m \u001b[0mord\u001b[0m \u001b[1;33m==\u001b[0m \u001b[1;36m2\u001b[0m\u001b[1;33m:\u001b[0m\u001b[1;33m\u001b[0m\u001b[0m\n\u001b[0;32m   2196\u001b[0m             \u001b[1;31m# special case for speedup\u001b[0m\u001b[1;33m\u001b[0m\u001b[1;33m\u001b[0m\u001b[0m\n\u001b[1;32m-> 2197\u001b[1;33m             \u001b[0ms\u001b[0m \u001b[1;33m=\u001b[0m \u001b[1;33m(\u001b[0m\u001b[0mx\u001b[0m\u001b[1;33m.\u001b[0m\u001b[0mconj\u001b[0m\u001b[1;33m(\u001b[0m\u001b[1;33m)\u001b[0m \u001b[1;33m*\u001b[0m \u001b[0mx\u001b[0m\u001b[1;33m)\u001b[0m\u001b[1;33m.\u001b[0m\u001b[0mreal\u001b[0m\u001b[1;33m\u001b[0m\u001b[0m\n\u001b[0m\u001b[0;32m   2198\u001b[0m             \u001b[1;32mreturn\u001b[0m \u001b[0msqrt\u001b[0m\u001b[1;33m(\u001b[0m\u001b[0madd\u001b[0m\u001b[1;33m.\u001b[0m\u001b[0mreduce\u001b[0m\u001b[1;33m(\u001b[0m\u001b[0ms\u001b[0m\u001b[1;33m,\u001b[0m \u001b[0maxis\u001b[0m\u001b[1;33m=\u001b[0m\u001b[0maxis\u001b[0m\u001b[1;33m,\u001b[0m \u001b[0mkeepdims\u001b[0m\u001b[1;33m=\u001b[0m\u001b[0mkeepdims\u001b[0m\u001b[1;33m)\u001b[0m\u001b[1;33m)\u001b[0m\u001b[1;33m\u001b[0m\u001b[0m\n\u001b[0;32m   2199\u001b[0m         \u001b[1;32melse\u001b[0m\u001b[1;33m:\u001b[0m\u001b[1;33m\u001b[0m\u001b[0m\n",
      "\u001b[1;31mKeyboardInterrupt\u001b[0m: "
     ]
    }
   ],
   "source": [
    "app = App(n_generations=10, pop_size=100)"
   ]
  },
  {
   "cell_type": "code",
   "execution_count": null,
   "metadata": {
    "collapsed": true
   },
   "outputs": [],
   "source": []
  },
  {
   "cell_type": "code",
   "execution_count": null,
   "metadata": {
    "collapsed": true
   },
   "outputs": [],
   "source": []
  },
  {
   "cell_type": "code",
   "execution_count": null,
   "metadata": {
    "collapsed": true
   },
   "outputs": [],
   "source": []
  }
 ],
 "metadata": {
  "kernelspec": {
   "display_name": "Python 3",
   "language": "python",
   "name": "python3"
  },
  "language_info": {
   "codemirror_mode": {
    "name": "ipython",
    "version": 3
   },
   "file_extension": ".py",
   "mimetype": "text/x-python",
   "name": "python",
   "nbconvert_exporter": "python",
   "pygments_lexer": "ipython3",
   "version": "3.6.2"
  }
 },
 "nbformat": 4,
 "nbformat_minor": 2
}
