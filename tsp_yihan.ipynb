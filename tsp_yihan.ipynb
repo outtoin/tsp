{
 "cells": [
  {
   "cell_type": "code",
   "execution_count": 1,
   "metadata": {
    "collapsed": true
   },
   "outputs": [],
   "source": [
    "import os\n",
    "import math\n",
    "import string\n",
    "import random\n",
    "import time\n",
    "import datetime\n",
    "import multiprocessing.process\n",
    "\n",
    "# 외부 라이브러리\n",
    "import numpy as np\n"
   ]
  },
  {
   "cell_type": "code",
   "execution_count": 2,
   "metadata": {
    "collapsed": true
   },
   "outputs": [],
   "source": [
    "def get_filedirs():\n",
    "    path = os.path.join(os.getcwd(), \"data\")\n",
    "    if os.path.isdir(path):\n",
    "        return list(map(lambda fname: os.path.join(path, fname), os.listdir(\"data\")))\n",
    "    return list()\n",
    "\n",
    "# N * 2 Array로 읽어들이는 과정 - 11849에서 0.05초 가량 소요\n",
    "def get_contents(fpath):\n",
    "    extension = fpath.split(\".\")[-1]\n",
    "    assert extension in [\"tsp\", \"TSP\"], \"Unable to read : file extension %s is not supported\" % extension\n",
    "    with open(fpath) as f:\n",
    "        return [[int(x[0]), np.array([float(x[1]), float(x[2])])] for x in [l.split() for l in f if l[0] in string.digits]]"
   ]
  },
  {
   "cell_type": "code",
   "execution_count": 3,
   "metadata": {
    "collapsed": true
   },
   "outputs": [],
   "source": [
    "def get_distance(i, j):\n",
    "    return np.linalg.norm(i[1] - j[1])\n",
    "\n",
    "# 0부터 n-1까지를 포함한 arrangement 리턴\n",
    "def gen_random(n):\n",
    "    return np.random.permutation(range(n))\n",
    "\n",
    "# permutation과 tsp data를 바탕으로 길이 evaluation하는 함수\n",
    "# permutation에 range(length)를 넣어 주면 순서대로 순회할 때의 길이를 반환함\n",
    "def get_total_length(tsp_data, permutation):\n",
    "    length = len(tsp_data)\n",
    "    distance = 0;\n",
    "    for i in range(length):\n",
    "        distance += get_distance(tsp_data[permutation[i - 1]], tsp_data[permutation[i]])\n",
    "    return [distance]"
   ]
  },
  {
   "cell_type": "code",
   "execution_count": 13,
   "metadata": {
    "collapsed": true
   },
   "outputs": [],
   "source": [
    "def tsp_2opt(tsp_data):\n",
    "    \n",
    "    k = random.randint(0, len(tsp_data) - 1)\n",
    "    d = tsp_data[:]\n",
    "    n = [tsp_data[k]]\n",
    "    d.pop(k)\n",
    "    \n",
    "    while len(d) > 0:\n",
    "        min_dist = 1e10\n",
    "        idx = -1\n",
    "        #if len(d) % 100 == 0:\n",
    "        #    print(len(d))\n",
    "        for (i, j) in enumerate(d):\n",
    "            new_dist = get_distance(n[-1], j)\n",
    "            if new_dist < min_dist:\n",
    "                min_dist, idx = new_dist, i\n",
    "        n.append(d[idx])\n",
    "        d.pop(idx)\n",
    "    return n"
   ]
  },
  {
   "cell_type": "code",
   "execution_count": 14,
   "metadata": {
    "collapsed": true
   },
   "outputs": [],
   "source": [
    "tsp_data = get_contents('rl11849.tsp')[:100]"
   ]
  },
  {
   "cell_type": "code",
   "execution_count": 26,
   "metadata": {},
   "outputs": [
    {
     "data": {
      "text/plain": [
       "[[20, array([  8240.,  10879.])],\n",
       " [23, array([  8464.,  11000.])],\n",
       " [35, array([  9296.,  10648.])],\n",
       " [59, array([ 10011.,   9944.])],\n",
       " [30, array([ 10000.,   9724.])],\n",
       " [5, array([ 9552.,  9614.])],\n",
       " [38, array([ 10608.,   9614.])],\n",
       " [14, array([ 10640.,   9614.])],\n",
       " [7, array([ 11056.,   9064.])],\n",
       " [36, array([ 11184.,   7821.])],\n",
       " [60, array([ 10416. ,   7485.5])],\n",
       " [83, array([ 10544.,   7238.])],\n",
       " [46, array([ 9840. ,  7485.5])],\n",
       " [82, array([ 9872.,  8096.])],\n",
       " [51, array([ 9264.,  7238.])],\n",
       " [43, array([ 9488.,  5962.])],\n",
       " [72, array([ 8612.,  5126.])],\n",
       " [53, array([ 8848.,  4895.])],\n",
       " [1, array([ 7840.,  4708.])],\n",
       " [55, array([ 7696.,  4334.])],\n",
       " [54, array([ 7392.,  3520.])],\n",
       " [31, array([ 7936.,  2970.])],\n",
       " [87, array([ 8976.,  2475.])],\n",
       " [62, array([ 9072.,  3762.])],\n",
       " [27, array([ 9707.,  3894.])],\n",
       " [32, array([ 10480.,   4334.])],\n",
       " [57, array([ 10480.,   4796.])],\n",
       " [10, array([ 10576.,   5214.])],\n",
       " [3, array([ 11915.,   4774.])],\n",
       " [47, array([ 12395.,   4884.])],\n",
       " [24, array([ 12624.,   5478.])],\n",
       " [89, array([ 12208.,   5962.])],\n",
       " [94, array([ 13104. ,   7232.5])],\n",
       " [90, array([ 14064. ,   6781.5])],\n",
       " [100, array([ 14132.,   6798.])],\n",
       " [96, array([ 13760.,   6204.])],\n",
       " [6, array([ 14800.,   7876.])],\n",
       " [9, array([ 15328.,   7876.])],\n",
       " [2, array([ 15408.,   7876.])],\n",
       " [52, array([ 16560.,   7018.])],\n",
       " [15, array([ 15888.,   5951.])],\n",
       " [92, array([ 16240.,   4664.])],\n",
       " [12, array([ 16368.,   4312.])],\n",
       " [56, array([ 16788.,   3916.])],\n",
       " [99, array([ 18256.,   2090.])],\n",
       " [64, array([ 13952.,   3630.])],\n",
       " [18, array([ 13584.,   3190.])],\n",
       " [11, array([ 12560.,   2420.])],\n",
       " [78, array([ 12672.,   2090.])],\n",
       " [49, array([ 11568.,   2585.])],\n",
       " [79, array([ 11184.,   2970.])],\n",
       " [48, array([ 10832.,   2750.])],\n",
       " [67, array([ 6464.,  4114.])],\n",
       " [66, array([ 6896.,  5610.])],\n",
       " [42, array([ 4560.,  6160.])],\n",
       " [70, array([ 4528.,  4829.])],\n",
       " [34, array([ 4564.,  4004.])],\n",
       " [81, array([ 3152.,  4906.])],\n",
       " [91, array([ 2000.,  4202.])],\n",
       " [29, array([ 1360.,  4202.])],\n",
       " [16, array([ 1956.,  6798.])],\n",
       " [98, array([ 4848.,  7634.])],\n",
       " [40, array([ 5712.,  9394.])],\n",
       " [22, array([ 4944.,  9702.])],\n",
       " [97, array([  4864.,  11550.])],\n",
       " [41, array([  4128.,  11946.])],\n",
       " [69, array([  4944.,  12386.])],\n",
       " [85, array([  5072. ,  13117.5])],\n",
       " [44, array([  4592. ,  13117.5])],\n",
       " [71, array([  3584.,  12826.])],\n",
       " [4, array([  3280.,  12826.])],\n",
       " [73, array([  5808.,  12276.])],\n",
       " [50, array([  6448.,  12386.])],\n",
       " [74, array([  6992.,  12276.])],\n",
       " [8, array([  7211.,  11902.])],\n",
       " [76, array([  7200.,  13090.])],\n",
       " [77, array([  6544.,  10912.])],\n",
       " [93, array([  6832.,  10087.])],\n",
       " [63, array([  7952.,  10054.])],\n",
       " [88, array([ 8336.,  9394.])],\n",
       " [75, array([ 8528.,  8624.])],\n",
       " [21, array([ 12336.,   8360.])],\n",
       " [37, array([ 12304.,   9614.])],\n",
       " [26, array([ 13376.,  10384.])],\n",
       " [95, array([ 14032.,   9999.])],\n",
       " [33, array([ 14480.,  10769.])],\n",
       " [45, array([ 15280.,  11902.])],\n",
       " [80, array([ 15440.,  12496.])],\n",
       " [28, array([ 16368.,  10769.])],\n",
       " [61, array([ 16283.,   9614.])],\n",
       " [84, array([ 17008.,   8481.])],\n",
       " [25, array([ 17904.,  12089.])],\n",
       " [65, array([ 13232.,  12232.])],\n",
       " [39, array([ 12384.,  12012.])],\n",
       " [68, array([ 11984.,  12386.])],\n",
       " [13, array([ 11792.,  12232.])],\n",
       " [17, array([ 11504.,  11374.])],\n",
       " [58, array([ 12272.,  11264.])],\n",
       " [86, array([ 10800.,  11748.])],\n",
       " [19, array([  9728.,  12496.])]]"
      ]
     },
     "execution_count": 26,
     "metadata": {},
     "output_type": "execute_result"
    }
   ],
   "source": [
    "tsp_2opt(tsp_data)"
   ]
  },
  {
   "cell_type": "code",
   "execution_count": null,
   "metadata": {
    "collapsed": true
   },
   "outputs": [],
   "source": []
  },
  {
   "cell_type": "code",
   "execution_count": null,
   "metadata": {
    "collapsed": true
   },
   "outputs": [],
   "source": []
  }
 ],
 "metadata": {
  "kernelspec": {
   "display_name": "Python 3",
   "language": "python",
   "name": "python3"
  },
  "language_info": {
   "codemirror_mode": {
    "name": "ipython",
    "version": 3
   },
   "file_extension": ".py",
   "mimetype": "text/x-python",
   "name": "python",
   "nbconvert_exporter": "python",
   "pygments_lexer": "ipython3",
   "version": "3.6.2"
  }
 },
 "nbformat": 4,
 "nbformat_minor": 2
}
